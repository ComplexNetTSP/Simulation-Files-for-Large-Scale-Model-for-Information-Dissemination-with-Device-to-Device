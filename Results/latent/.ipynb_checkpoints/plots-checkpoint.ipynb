{
 "metadata": {
  "name": "",
  "signature": "sha256:0588535b255d1137823214d4c0d611ff4be225b262c520e8f3babc6679843771"
 },
 "nbformat": 3,
 "nbformat_minor": 0,
 "worksheets": [
  {
   "cells": [
    {
     "cell_type": "code",
     "collapsed": false,
     "input": [
      "%pylab inline\n",
      "import pickle as p"
     ],
     "language": "python",
     "metadata": {},
     "outputs": [
      {
       "output_type": "stream",
       "stream": "stdout",
       "text": [
        "Populating the interactive namespace from numpy and matplotlib\n"
       ]
      }
     ],
     "prompt_number": 1
    },
    {
     "cell_type": "code",
     "collapsed": false,
     "input": [
      "with open('1/EI.p', 'rb') as fp:\n",
      "      EI = p.load(fp)\n",
      "with open('1/I.p', 'rb') as fp:\n",
      "      I = p.load(fp)\n",
      "with open('1/S.p', 'rb') as fp:\n",
      "      S = p.load(fp)\n",
      "with open('1/ES.p', 'rb') as fp:\n",
      "      ES = p.load(fp)\n",
      "with open('1/A.p', 'rb') as fp:\n",
      "      A = p.load(fp)"
     ],
     "language": "python",
     "metadata": {},
     "outputs": []
    },
    {
     "cell_type": "code",
     "collapsed": false,
     "input": [
      "plot(EI)"
     ],
     "language": "python",
     "metadata": {},
     "outputs": []
    },
    {
     "cell_type": "code",
     "collapsed": false,
     "input": [
      "plot(I)"
     ],
     "language": "python",
     "metadata": {},
     "outputs": []
    },
    {
     "cell_type": "code",
     "collapsed": false,
     "input": [
      "plot(ES)"
     ],
     "language": "python",
     "metadata": {},
     "outputs": []
    },
    {
     "cell_type": "code",
     "collapsed": false,
     "input": [
      "plot(S)"
     ],
     "language": "python",
     "metadata": {},
     "outputs": []
    }
   ],
   "metadata": {}
  }
 ]
}