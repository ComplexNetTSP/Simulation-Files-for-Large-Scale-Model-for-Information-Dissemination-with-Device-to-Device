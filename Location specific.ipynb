{
 "metadata": {
  "name": "",
  "signature": "sha256:eec7ab78ae9c6024c7499f2993bf52790667d6835c3bb4ae893f10fd348746c2"
 },
 "nbformat": 3,
 "nbformat_minor": 0,
 "worksheets": [
  {
   "cells": [
    {
     "cell_type": "code",
     "collapsed": false,
     "input": [
      "import numpy as np\n",
      "c = 0.8\n",
      "Cx = 2.0\n",
      "Cy = 1.0\n",
      "Nxx = 6.0\n",
      "Nxy = 6.0\n",
      "Ixx = 3.0\n",
      "Ixy = 3.0\n",
      "beta = -np.log(1.0-c)\n",
      "\n",
      "print Cy*beta*((Cx*Ixx + Cy*Ixy)/(Cx*Nxx + Cy*Nxy))\n",
      "print Cx*beta*((Cx*Ixx + Cy*Ixy)/(Cx*Nxx + Cy*Nxy))\n",
      "print Cx*beta*((Ixx+Ixy)/(Nxx+Nxy))"
     ],
     "language": "python",
     "metadata": {},
     "outputs": [
      {
       "output_type": "stream",
       "stream": "stdout",
       "text": [
        "0.804718956217\n",
        "1.60943791243\n",
        "1.60943791243\n"
       ]
      }
     ],
     "prompt_number": 16
    },
    {
     "cell_type": "code",
     "collapsed": false,
     "input": [
      "(0.804718956217+1.60943791243)/2"
     ],
     "language": "python",
     "metadata": {},
     "outputs": [
      {
       "metadata": {},
       "output_type": "pyout",
       "prompt_number": 18,
       "text": [
        "1.2070784343235"
       ]
      }
     ],
     "prompt_number": 18
    },
    {
     "cell_type": "code",
     "collapsed": false,
     "input": [],
     "language": "python",
     "metadata": {},
     "outputs": []
    }
   ],
   "metadata": {}
  }
 ]
}