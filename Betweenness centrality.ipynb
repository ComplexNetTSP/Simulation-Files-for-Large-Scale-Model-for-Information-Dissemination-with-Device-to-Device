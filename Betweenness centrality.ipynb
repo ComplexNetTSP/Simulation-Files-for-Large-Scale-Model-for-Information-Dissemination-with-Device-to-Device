{
 "metadata": {
  "name": "",
  "signature": "sha256:04d7492a829886b8dde79b46b9ac398fd456f5e0f4ab7df825f014748a0d9555"
 },
 "nbformat": 3,
 "nbformat_minor": 0,
 "worksheets": [
  {
   "cells": [
    {
     "cell_type": "code",
     "collapsed": false,
     "input": [
      "import igraph as ig\n",
      "import numpy as np\n",
      "import pickle as p\n",
      "from numpy import matrix\n",
      "from numpy.linalg import inv"
     ],
     "language": "python",
     "metadata": {},
     "outputs": [],
     "prompt_number": 1
    },
    {
     "cell_type": "code",
     "collapsed": false,
     "input": [
      "%pylab inline"
     ],
     "language": "python",
     "metadata": {},
     "outputs": [
      {
       "output_type": "stream",
       "stream": "stdout",
       "text": [
        "Populating the interactive namespace from numpy and matplotlib\n"
       ]
      }
     ],
     "prompt_number": 2
    },
    {
     "cell_type": "code",
     "collapsed": false,
     "input": [
      "with open('PopulationCensus/subPrefectureNumberingCensusData.p') as pickleFile:\n",
      "    ConnectionNumber = p.load(pickleFile)\n",
      "with open('PopulationCensus/densitySubPrefectureCensusData.p') as pickleFile:\n",
      "    density = p.load(pickleFile)\n",
      "subPrefecture_id = {}\n",
      "for name, sub_id in ConnectionNumber.iteritems():\n",
      "    subPrefecture_id[sub_id-1] = name"
     ],
     "language": "python",
     "metadata": {},
     "outputs": [
      {
       "output_type": "stream",
       "stream": "stdout",
       "text": [
        "{'grand-bereby': 35.44927536231884, 'foungbesso': 18.19954128440367, \"m'bengue\": 45.136, 'bonguera': 27.38095238095238, 'sago': 30.154142581888248, 'beoumi': 46.29370629370629, 'taabo': 57.240356083086056, 'transua': 45.516178736517716, 'zeo': 81.01941747572816, 'kong': 14.180956678700362, 'guezon': 50.341296928327644, 'grand-bassam': 52.56, 'gbapleu': 50.341296928327644, 'duffrebo': 72.17647058823529, 'borotou': 18.19954128440367, 'agou': 65.98470363288719, 'kouibly': 83.60721442885772, 'satama-sokoro': 12.34746639089969, 'karakoro': 45.136, 'kounahiri': 16.876172607879926, 'etueboue': 52.56, 'tafire': 20.254777070063696, 'tienko': 11.96116504854369, 'bouafle': 59.89949748743719, 'yakasse-attobrou': 65.98470363288719, 'bondoukou': 25.438247011952193, 'bagohouo': 50.341296928327644, 'bazre': 103.55029585798816, 'anyama': 423.953216374269, 'djekanou': 42.33812949640288, 'sakassou': 46.01063829787234, 'guiembe': 45.136, 'niofoin': 45.136, 'tieningboue': 16.876172607879926, 'foumbolo': 12.34746639089969, 'blolequin': 21.98752228163993, 'nielle': 14.180956678700362, 'zuenoula': 58.79858657243816, 'semien': 83.60721442885772, 'guiberoua': 89.11111111111111, 'boundiali': 23.432552248258393, 'minignan': 11.96116504854369, 'languibonou': 140.19148936170214, 'kaniasso': 11.96116504854369, 'daoukro': 34.81994459833795, 'bianoua': 52.56, 'bassawa': 12.34746639089969, 'kononfla': 103.55029585798816, 'tioroniaradougou': 45.136, 'azaguie': 76.96103896103897, 'yamoussoukro': 67.19155844155844, 'iboguhe': 78.96935933147633, 'assinie-mafia': 52.56, 'abengourou': 59.90384615384615, 'napieoledougou': 45.136, 'akoupe': 65.98470363288719, 'ettrokro': 34.81994459833795, 'tieme': 11.96116504854369, 'samatiguila': 11.96116504854369, 'sipilou': 29.21212121212121, \"tie-n'diekro\": 67.19155844155844, 'vavoua': 40.0, 'gohitafla': 58.79858657243816, 'oghlwapo': 423.953216374269, 'bangolo': 81.01941747572816, 'pehe': 21.98752228163993, 'sapli': 25.438247011952193, 'seguelon': 11.96116504854369, 'assikoi': 65.98470363288719, 'kani': 15.667259786476869, 'bouake': 140.19148936170214, 'kouetinfla': 103.55029585798816, 'daloa': 96.45871559633028, 'booko': 18.19954128440367, 'grabo': 15.955882352941176, 'bako': 11.96116504854369, 'totrodrou': 83.60721442885772, 'ando-kekrenou': 46.29370629370629, 'angoda': 42.33812949640288, 'koro': 18.19954128440367, 'madinani': 11.96116504854369, 'zaibo': 96.45871559633028, 'arrah': 58.85098743267505, 'meagui': 54.389359129383315, 'agnibilekrou': 72.17647058823529, 'tanda': 45.516178736517716, 'boguedia': 78.96935933147633, 'bin-houye': 70.19565217391305, 'katiola': 20.254777070063696, 'oume': 84.91666666666667, 'fronan': 20.254777070063696, \"m'bahiakro\": 27.38095238095238, 'dania': 40.0, 'bayota': 89.11111111111111, 'gbonne': 29.21212121212121, 'tiebissou': 67.19155844155844, 'maffere': 52.56, 'timbe': 20.254777070063696, 'tabou': 15.955882352941176, 'gbeleban': 11.96116504854369, 'bonoua': 52.56, 'gueyebly': 50.341296928327644, 'rubino': 76.96103896103897, 'didievi': 67.19155844155844, 'marandallah': 16.876172607879926, 'tiobly': 21.98752228163993, 'odienne': 11.96116504854369, 'botro': 140.19148936170214, 'sangouine': 83.60721442885772, 'attiegouakro': 67.19155844155844, 'dieouzon': 81.01941747572816, 'toumodi': 42.33812949640288, 'dualla': 15.667259786476869, 'guiglo': 21.98752228163993, 'niakaramandougou': 20.254777070063696, 'kpouebo': 42.33812949640288, 'saioua': 78.96935933147633, 'kolia': 23.432552248258393, 'seitifla': 40.0, 'bakoubli': 21.98752228163993, 'gbon': 23.432552248258393, 'zoukougbeu': 96.45871559633028, 'zouan-hounien': 70.19565217391305, 'ayame': 52.56, 'nidrou': 83.60721442885772, 'ouelle': 34.81994459833795, 'ouangolodougou': 14.180956678700362, 'tanguelan': 72.17647058823529, 'bongouanou': 58.85098743267505, 'bouna': 9.105728924080111, 'oress-krobou': 76.96103896103897, 'kassere': 23.432552248258393, \"m'batto\": 58.85098743267505, 'grand-morie': 76.96103896103897, 'ayaou-sran': 46.01063829787234, 'dikodougou2': 45.136, 'koumbala': 14.180956678700362, 'dimbokro': 41.951219512195124, 'anoumaba': 58.85098743267505, 'assuefry': 45.516178736517716, 'bocanda': 41.951219512195124, 'sarhala': 16.876172607879926, 'massala': 15.667259786476869, 'ouaninou': 18.19954128440367, 'adiake': 52.56, 'adzope': 65.98470363288719, 'niable': 59.90384615384615, 'diegonefla': 84.91666666666667, 'koffi-amonkro': 27.38095238095238, 'sirasso': 45.136, 'biankouma': 29.21212121212121, 'zikisso': 61.75824175824176, 'niambezaria': 61.75824175824176, 'kouto': 23.432552248258393, 'tortiya': 20.254777070063696, 'agboville': 76.96103896103897, 'bonon': 59.89949748743719, 'bonieredougou': 12.34746639089969, 'tengrela': 36.54545454545455, 'dame': 72.17647058823529, 'bodokro': 46.29370629370629, 'sifie': 15.667259786476869, 'bettie': 59.90384615384615, 'kouassi kouassikro': 41.951219512195124, 'soubre': 54.389359129383315, 'duekoue': 50.341296928327644, 'divo': 71.52777777777777, 'koonan': 18.19954128440367, 'dabou': 423.953216374269, 'zaranou': 59.90384615384615, 'abidjan': 423.953216374269, 'debete': 36.54545454545455, 'alepe': 423.953216374269, 'kongasso': 16.876172607879926, 'songon': 423.953216374269, 'ebilassokro': 59.90384615384615, 'bediala': 96.45871559633028, 'hire': 71.52777777777777, 'sinematiali': 45.136, 'kokumbo': 42.33812949640288, 'morondo': 15.667259786476869, 'tabagne': 25.438247011952193, 'seguela': 15.667259786476869, 'worofla': 15.667259786476869, 'dianra': 16.876172607879926, 'nassian': 9.105728924080111, 'dioulatiedougou': 11.96116504854369, 'tiemelekro': 58.85098743267505, 'gboguhe': 96.45871559633028, 'touba': 18.19954128440367, 'bingerville': 423.953216374269, 'toumodi-sakassou': 46.01063829787234, 'okrouyo': 54.389359129383315, 'ouragahio': 89.11111111111111, 'taoudi': 25.438247011952193, 'kouassi-datekro': 45.516178736517716, 'gadouan': 96.45871559633028, 'seydougou': 11.96116504854369, 'amelekia': 59.90384615384615, 'diabo': 140.19148936170214, 'becedi-brignan': 65.98470363288719, 'korhogo': 45.136, 'dabakala': 12.34746639089969, 'tiapoum': 52.56, 'goumere': 25.438247011952193, 'san-pedro': 35.44927536231884, 'mankono': 16.876172607879926, 'sikensi': 423.953216374269, 'cechi': 76.96103896103897, 'aboisso': 52.56, 'gueyo': 30.154142581888248, 'koun-fao': 45.516178736517716, 'buyo': 54.389359129383315, 'satama-sokoura': 12.34746639089969, 'tai': 21.98752228163993, 'dikodougou': 45.136, 'facobly': 83.60721442885772, 'zou': 81.01941747572816, 'gnagbodougnoa': 89.11111111111111, 'yocoboue': 71.52777777777777, 'guinteguela': 18.19954128440367, 'djebonoua': 140.19148936170214, 'aniassue': 59.90384615384615, 'jacqueville': 423.953216374269, 'tehini': 9.105728924080111, 'logouale': 83.60721442885772, 'affery': 65.98470363288719, 'prikro': 27.38095238095238, 'sandegue': 25.438247011952193, 'ferkessedougou': 14.180956678700362, 'fresco': 71.52777777777777, 'akoboissue': 72.17647058823529, 'sassandra': 30.154142581888248, 'kanakono': 36.54545454545455, 'kondrobo': 46.29370629370629, 'djibrosso': 15.667259786476869, 'doropo': 9.105728924080111, 'tiassale': 57.240356083086056, 'issia': 78.96935933147633, 'man': 83.60721442885772, 'mahapleu': 70.19565217391305, 'guitry': 71.52777777777777, 'danane': 70.19565217391305, 'yakasse-feyasse': 59.90384615384615, 'gagnoa': 89.11111111111111, 'grand-zattry': 54.389359129383315, 'diawala': 14.180956678700362, 'grand-lahou': 33.59649122807018, 'sorobango': 25.438247011952193, 'lakota': 61.75824175824176, 'tankesse': 45.516178736517716, 'toulepleu': 21.98752228163993, 'goulia': 11.96116504854369, 'brobo': 140.19148936170214, 'sinfra': 103.55029585798816}\n"
       ]
      }
     ],
     "prompt_number": 103
    },
    {
     "cell_type": "code",
     "collapsed": false,
     "input": [
      "filename = 'Transitions/transitionprob.p'\n",
      "with open(filename, \"rb\") as pickleFile:\n",
      "    Tlist = p.load(pickleFile)\n",
      "Tarray = np.array(Tlist, dtype=np.float)\n",
      "O = np.ones((255, 255)) - np.identity(255)\n",
      "Tarray = Tarray * O\n",
      "nb_transition = Tarray.sum()\n",
      "print 'nb_transition :', nb_transition\n",
      "N=255\n",
      "nb_edges = (N-1)*(N-2)/2\n",
      "print 'nb_edges :',nb_edges"
     ],
     "language": "python",
     "metadata": {},
     "outputs": [
      {
       "output_type": "stream",
       "stream": "stdout",
       "text": [
        "nb_transition : 16911297.0\n",
        "nb_edges : 32131\n"
       ]
      }
     ],
     "prompt_number": 89
    },
    {
     "cell_type": "code",
     "collapsed": false,
     "input": [
      "G = ig.Graph.Weighted_Adjacency(Tarray.tolist(), mode=ig.ADJ_DIRECTED, attr=\"weight\")\n",
      "ig.summary(G)"
     ],
     "language": "python",
     "metadata": {},
     "outputs": [
      {
       "output_type": "stream",
       "stream": "stdout",
       "text": [
        "IGRAPH D-W- 255 21083 -- \n",
        "+ attr: weight (e)\n"
       ]
      }
     ],
     "prompt_number": 90
    },
    {
     "cell_type": "code",
     "collapsed": false,
     "input": [
      "Gp = ig.Graph.simplify(G, combine_edges=sum)\n",
      "ig.summary(Gp)"
     ],
     "language": "python",
     "metadata": {},
     "outputs": [
      {
       "output_type": "stream",
       "stream": "stdout",
       "text": [
        "IGRAPH D-W- 255 21083 -- \n",
        "+ attr: weight (e)\n"
       ]
      }
     ],
     "prompt_number": 91
    },
    {
     "cell_type": "code",
     "collapsed": false,
     "input": [
      "bw = Gp.betweenness(directed=True,weights='weight')\n",
      "Gp.vs['bw'] = bw"
     ],
     "language": "python",
     "metadata": {},
     "outputs": [],
     "prompt_number": 99
    },
    {
     "cell_type": "code",
     "collapsed": false,
     "input": [
      "bw = Gp.betweenness"
     ],
     "language": "python",
     "metadata": {},
     "outputs": [],
     "prompt_number": 100
    },
    {
     "cell_type": "code",
     "collapsed": false,
     "input": [
      "ig.summary(Gp)"
     ],
     "language": "python",
     "metadata": {},
     "outputs": [
      {
       "output_type": "stream",
       "stream": "stdout",
       "text": [
        "IGRAPH D-W- 255 21083 -- \n",
        "+ attr: bw (v), weight (e)\n"
       ]
      }
     ],
     "prompt_number": 101
    },
    {
     "cell_type": "code",
     "collapsed": false,
     "input": [
      "value_dict = {}\n",
      "for v in Gp.vs:\n",
      "    s = Gp.strength(v.index, mode='in', weights='weight')\n",
      "    sout = Gp.strength(v.index, mode='out', weights='weight')\n",
      "    bw = Gp.vs[v.index]['bw']\n",
      "    value_dict[s] = {'name' : subPrefecture_id[v.index], 'bw': bw, 'sout': sout}   "
     ],
     "language": "python",
     "metadata": {},
     "outputs": [],
     "prompt_number": 102
    },
    {
     "cell_type": "code",
     "collapsed": false,
     "input": [
      "index = 1\n",
      "for key in sorted(value_dict.iterkeys(),reverse=True):\n",
      "    name = value_dict[key]['name']\n",
      "    print \"%d & %s & %.4f & %.4f & %.2f\\\\\\\\\" % (index, name, float(key)/nb_transition, value_dict[key]['bw']/nb_edges, density[name])\n",
      "    index += 1"
     ],
     "language": "python",
     "metadata": {},
     "outputs": [
      {
       "output_type": "stream",
       "stream": "stdout",
       "text": [
        "1 & abidjan & 0.1161 & 0.0000 & 423.95\\\\\n",
        "2 & bingerville & 0.0371 & 0.0132 & 423.95\\\\\n",
        "3 & soubre & 0.0323 & 0.0074 & 54.39\\\\\n",
        "4 & meagui & 0.0249 & 0.0095 & 54.39\\\\\n",
        "5 & anyama & 0.0245 & 0.0119 & 423.95\\\\\n",
        "6 & yamoussoukro & 0.0240 & 0.0060 & 67.19\\\\\n",
        "7 & songon & 0.0216 & 0.0162 & 423.95\\\\\n",
        "8 & grand-bassam & 0.0180 & 0.0225 & 52.56\\\\\n",
        "9 & bonoua & 0.0156 & 0.0211 & 52.56\\\\\n",
        "10 & tiassale & 0.0156 & 0.0058 & 57.24\\\\\n",
        "11 & bouake & 0.0154 & 0.0040 & 140.19\\\\\n",
        "12 & gagnoa & 0.0154 & 0.0178 & 89.11\\\\\n",
        "13 & aboisso & 0.0143 & 0.0155 & 52.56\\\\\n",
        "14 & guiberoua & 0.0143 & 0.0159 & 89.11\\\\\n",
        "15 & issia & 0.0141 & 0.0099 & 78.97\\\\\n",
        "16 & toumodi & 0.0136 & 0.0089 & 42.34\\\\\n",
        "17 & san-pedro & 0.0133 & 0.0127 & 35.45\\\\\n",
        "18 & guiglo & 0.0124 & 0.0097 & 21.99\\\\\n",
        "19 & divo & 0.0117 & 0.0114 & 71.53\\\\\n",
        "20 & bouafle & 0.0116 & 0.0071 & 59.90\\\\\n",
        "21 & daloa & 0.0116 & 0.0084 & 96.46\\\\\n",
        "22 & sassandra & 0.0110 & 0.0202 & 30.15\\\\\n",
        "23 & oume & 0.0110 & 0.0059 & 84.92\\\\\n",
        "24 & dabou & 0.0109 & 0.0160 & 423.95\\\\\n",
        "25 & tai & 0.0099 & 0.0062 & 21.99\\\\\n",
        "26 & maffere & 0.0083 & 0.0166 & 52.56\\\\\n",
        "27 & hire & 0.0082 & 0.0105 & 71.53\\\\\n",
        "28 & abengourou & 0.0081 & 0.0061 & 59.90\\\\\n",
        "29 & sikensi & 0.0080 & 0.0170 & 423.95\\\\\n",
        "30 & tiebissou & 0.0077 & 0.0148 & 67.19\\\\\n",
        "31 & attiegouakro & 0.0077 & 0.0079 & 67.19\\\\\n",
        "32 & sinfra & 0.0075 & 0.0128 & 103.55\\\\\n",
        "33 & grand-zattry & 0.0071 & 0.0149 & 54.39\\\\\n",
        "34 & adzope & 0.0069 & 0.0124 & 65.98\\\\\n",
        "35 & zoukougbeu & 0.0069 & 0.0116 & 96.46\\\\\n",
        "36 & arrah & 0.0067 & 0.0075 & 58.85\\\\\n",
        "37 & jacqueville & 0.0066 & 0.0067 & 423.95\\\\\n",
        "38 & diegonefla & 0.0065 & 0.0120 & 84.92\\\\\n",
        "39 & okrouyo & 0.0064 & 0.0141 & 54.39\\\\\n",
        "40 & bongouanou & 0.0063 & 0.0081 & 58.85\\\\\n",
        "41 & agboville & 0.0062 & 0.0204 & 76.96\\\\\n",
        "42 & korhogo & 0.0061 & 0.0137 & 45.14\\\\\n",
        "43 & grand-lahou & 0.0059 & 0.0126 & 33.60\\\\\n",
        "44 & duekoue & 0.0058 & 0.0107 & 50.34\\\\\n",
        "45 & sago & 0.0057 & 0.0052 & 30.15\\\\\n",
        "46 & akoupe & 0.0057 & 0.0099 & 65.98\\\\\n",
        "47 & agnibilekrou & 0.0057 & 0.0064 & 72.18\\\\\n",
        "48 & bayota & 0.0056 & 0.0105 & 89.11\\\\\n",
        "49 & ebilassokro & 0.0055 & 0.0036 & 59.90\\\\\n",
        "50 & lakota & 0.0055 & 0.0184 & 61.76\\\\\n",
        "51 & man & 0.0055 & 0.0110 & 83.61\\\\\n",
        "52 & fresco & 0.0053 & 0.0166 & 71.53\\\\\n",
        "53 & vavoua & 0.0052 & 0.0144 & 40.00\\\\\n",
        "54 & sakassou & 0.0052 & 0.0071 & 46.01\\\\\n",
        "55 & gueyo & 0.0052 & 0.0081 & 30.15\\\\\n",
        "56 & adiake & 0.0051 & 0.0120 & 52.56\\\\\n",
        "57 & iboguhe & 0.0049 & 0.0075 & 78.97\\\\\n",
        "58 & alepe & 0.0047 & 0.0050 & 423.95\\\\\n",
        "59 & djebonoua & 0.0047 & 0.0146 & 140.19\\\\\n",
        "60 & buyo & 0.0047 & 0.0127 & 54.39\\\\\n",
        "61 & saioua & 0.0045 & 0.0124 & 78.97\\\\\n",
        "62 & gboguhe & 0.0044 & 0.0088 & 96.46\\\\\n",
        "63 & bonon & 0.0043 & 0.0068 & 59.90\\\\\n",
        "64 & tiapoum & 0.0042 & 0.0065 & 52.56\\\\\n",
        "65 & bondoukou & 0.0042 & 0.0049 & 25.44\\\\\n",
        "66 & agou & 0.0042 & 0.0071 & 65.98\\\\\n",
        "67 & etueboue & 0.0041 & 0.0009 & 52.56\\\\\n",
        "68 & katiola & 0.0041 & 0.0111 & 20.25\\\\\n",
        "69 & bediala & 0.0041 & 0.0134 & 96.46\\\\\n",
        "70 & bettie & 0.0041 & 0.0067 & 59.90\\\\\n",
        "71 & yakasse-attobrou & 0.0038 & 0.0078 & 65.98\\\\\n",
        "72 & daoukro & 0.0038 & 0.0159 & 34.82\\\\\n",
        "73 & zuenoula & 0.0038 & 0.0073 & 58.80\\\\\n",
        "74 & kononfla & 0.0037 & 0.0117 & 103.55\\\\\n",
        "75 & beoumi & 0.0037 & 0.0105 & 46.29\\\\\n",
        "76 & djekanou & 0.0035 & 0.0054 & 42.34\\\\\n",
        "77 & azaguie & 0.0034 & 0.0105 & 76.96\\\\\n",
        "78 & dania & 0.0034 & 0.0111 & 40.00\\\\\n",
        "79 & kouetinfla & 0.0033 & 0.0043 & 103.55\\\\\n",
        "80 & ouragahio & 0.0033 & 0.0051 & 89.11\\\\\n",
        "81 & guezon & 0.0032 & 0.0124 & 50.34\\\\\n",
        "82 & yakasse-feyasse & 0.0032 & 0.0052 & 59.90\\\\\n",
        "83 & bazre & 0.0031 & 0.0090 & 103.55\\\\\n",
        "84 & kokumbo & 0.0031 & 0.0099 & 42.34\\\\\n",
        "85 & tie-n'diekro & 0.0030 & 0.0072 & 67.19\\\\\n",
        "86 & diabo & 0.0030 & 0.0180 & 140.19\\\\\n",
        "87 & dimbokro & 0.0030 & 0.0174 & 41.95\\\\\n",
        "88 & dikodougou2 & 0.0030 & 0.0075 & 45.14\\\\\n",
        "89 & grand-bereby & 0.0028 & 0.0093 & 35.45\\\\\n",
        "90 & seguela & 0.0027 & 0.0072 & 15.67\\\\\n",
        "91 & seitifla & 0.0027 & 0.0094 & 40.00\\\\\n",
        "92 & fronan & 0.0027 & 0.0165 & 20.25\\\\\n",
        "93 & brobo & 0.0026 & 0.0109 & 140.19\\\\\n",
        "94 & aniassue & 0.0026 & 0.0105 & 59.90\\\\\n",
        "95 & guitry & 0.0025 & 0.0090 & 71.53\\\\\n",
        "96 & languibonou & 0.0025 & 0.0092 & 140.19\\\\\n",
        "97 & angoda & 0.0025 & 0.0035 & 42.34\\\\\n",
        "98 & niable & 0.0025 & 0.0065 & 59.90\\\\\n",
        "99 & bianoua & 0.0024 & 0.0060 & 52.56\\\\\n",
        "100 & ferkessedougou & 0.0024 & 0.0120 & 14.18\\\\\n",
        "101 & sapli & 0.0024 & 0.0030 & 25.44\\\\\n",
        "102 & zaranou & 0.0024 & 0.0034 & 59.90\\\\\n",
        "103 & gohitafla & 0.0024 & 0.0073 & 58.80\\\\\n",
        "104 & gadouan & 0.0023 & 0.0083 & 96.46\\\\\n",
        "105 & m'batto & 0.0022 & 0.0104 & 58.85\\\\\n",
        "106 & assinie-mafia & 0.0022 & 0.0069 & 52.56\\\\\n",
        "107 & yocoboue & 0.0022 & 0.0064 & 71.53\\\\\n",
        "108 & zikisso & 0.0021 & 0.0033 & 61.76\\\\\n",
        "109 & bodokro & 0.0021 & 0.0125 & 46.29\\\\\n",
        "110 & sinematiali & 0.0020 & 0.0090 & 45.14\\\\\n",
        "111 & ayame & 0.0020 & 0.0077 & 52.56\\\\\n",
        "112 & oress-krobou & 0.0019 & 0.0170 & 76.96\\\\\n",
        "113 & taabo & 0.0019 & 0.0105 & 57.24\\\\\n",
        "114 & bocanda & 0.0019 & 0.0060 & 41.95\\\\\n",
        "115 & danane & 0.0019 & 0.0071 & 70.20\\\\\n",
        "116 & zouan-hounien & 0.0018 & 0.0074 & 70.20\\\\\n",
        "117 & dame & 0.0018 & 0.0067 & 72.18\\\\\n",
        "118 & niakaramandougou & 0.0018 & 0.0093 & 20.25\\\\\n",
        "119 & tanguelan & 0.0017 & 0.0046 & 72.18\\\\\n",
        "120 & biankouma & 0.0017 & 0.0056 & 29.21\\\\\n",
        "121 & mankono & 0.0016 & 0.0078 & 16.88\\\\\n",
        "122 & duffrebo & 0.0016 & 0.0052 & 72.18\\\\\n",
        "123 & kouto & 0.0016 & 0.0044 & 23.43\\\\\n",
        "124 & tieningboue & 0.0016 & 0.0072 & 16.88\\\\\n",
        "125 & kounahiri & 0.0016 & 0.0060 & 16.88\\\\\n",
        "126 & botro & 0.0016 & 0.0089 & 140.19\\\\\n",
        "127 & diawala & 0.0016 & 0.0029 & 14.18\\\\\n",
        "128 & tanda & 0.0015 & 0.0080 & 45.52\\\\\n",
        "129 & m'bengue & 0.0015 & 0.0025 & 45.14\\\\\n",
        "130 & koun-fao & 0.0015 & 0.0030 & 45.52\\\\\n",
        "131 & ouelle & 0.0014 & 0.0127 & 34.82\\\\\n",
        "132 & tabou & 0.0014 & 0.0075 & 15.96\\\\\n",
        "133 & ouangolodougou & 0.0014 & 0.0122 & 14.18\\\\\n",
        "134 & ando-kekrenou & 0.0014 & 0.0031 & 46.29\\\\\n",
        "135 & didievi & 0.0014 & 0.0056 & 67.19\\\\\n",
        "136 & semien & 0.0013 & 0.0046 & 83.61\\\\\n",
        "137 & dualla & 0.0013 & 0.0045 & 15.67\\\\\n",
        "138 & rubino & 0.0013 & 0.0031 & 76.96\\\\\n",
        "139 & tankesse & 0.0013 & 0.0136 & 45.52\\\\\n",
        "140 & boundiali & 0.0013 & 0.0091 & 23.43\\\\\n",
        "141 & gbon & 0.0013 & 0.0054 & 23.43\\\\\n",
        "142 & gueyebly & 0.0013 & 0.0053 & 50.34\\\\\n",
        "143 & kouassi kouassikro & 0.0013 & 0.0065 & 41.95\\\\\n",
        "144 & zaibo & 0.0013 & 0.0052 & 96.46\\\\\n",
        "145 & gbapleu & 0.0012 & 0.0055 & 50.34\\\\\n",
        "146 & napieoledougou & 0.0012 & 0.0038 & 45.14\\\\\n",
        "147 & niambezaria & 0.0012 & 0.0078 & 61.76\\\\\n",
        "148 & amelekia & 0.0012 & 0.0021 & 59.90\\\\\n",
        "149 & dikodougou & 0.0012 & 0.0044 & 45.14\\\\\n",
        "150 & kpouebo & 0.0011 & 0.0048 & 42.34\\\\\n",
        "151 & logouale & 0.0011 & 0.0056 & 83.61\\\\\n",
        "152 & m'bahiakro & 0.0011 & 0.0111 & 27.38\\\\\n",
        "153 & bangolo & 0.0011 & 0.0058 & 81.02\\\\\n",
        "154 & sarhala & 0.0011 & 0.0030 & 16.88\\\\\n",
        "155 & tafire & 0.0011 & 0.0054 & 20.25\\\\\n",
        "156 & affery & 0.0010 & 0.0038 & 65.98\\\\\n",
        "157 & blolequin & 0.0010 & 0.0094 & 21.99\\\\\n",
        "158 & assuefry & 0.0010 & 0.0045 & 45.52\\\\\n",
        "159 & mahapleu & 0.0010 & 0.0034 & 70.20\\\\\n",
        "160 & worofla & 0.0010 & 0.0060 & 15.67\\\\\n",
        "161 & boguedia & 0.0010 & 0.0046 & 78.97\\\\\n",
        "162 & touba & 0.0009 & 0.0067 & 18.20\\\\\n",
        "163 & nielle & 0.0009 & 0.0079 & 14.18\\\\\n",
        "164 & goumere & 0.0009 & 0.0035 & 25.44\\\\\n",
        "165 & cechi & 0.0009 & 0.0032 & 76.96\\\\\n",
        "166 & sangouine & 0.0009 & 0.0078 & 83.61\\\\\n",
        "167 & grand-morie & 0.0009 & 0.0028 & 76.96\\\\\n",
        "168 & prikro & 0.0008 & 0.0126 & 27.38\\\\\n",
        "169 & dieouzon & 0.0008 & 0.0041 & 81.02\\\\\n",
        "170 & bagohouo & 0.0008 & 0.0024 & 50.34\\\\\n",
        "171 & guiembe & 0.0008 & 0.0028 & 45.14\\\\\n",
        "172 & niofoin & 0.0008 & 0.0029 & 45.14\\\\\n",
        "173 & tortiya & 0.0008 & 0.0030 & 20.25\\\\\n",
        "174 & toulepleu & 0.0008 & 0.0015 & 21.99\\\\\n",
        "175 & gnagbodougnoa & 0.0008 & 0.0024 & 89.11\\\\\n",
        "176 & oghlwapo & 0.0008 & 0.0050 & 423.95\\\\\n",
        "177 & taoudi & 0.0007 & 0.0021 & 25.44\\\\\n",
        "178 & kolia & 0.0007 & 0.0067 & 23.43\\\\\n",
        "179 & akoboissue & 0.0007 & 0.0046 & 72.18\\\\\n",
        "180 & anoumaba & 0.0007 & 0.0035 & 58.85\\\\\n",
        "181 & tiemelekro & 0.0007 & 0.0018 & 58.85\\\\\n",
        "182 & facobly & 0.0006 & 0.0020 & 83.61\\\\\n",
        "183 & bin-houye & 0.0006 & 0.0011 & 70.20\\\\\n",
        "184 & nidrou & 0.0006 & 0.0016 & 83.61\\\\\n",
        "185 & kongasso & 0.0006 & 0.0058 & 16.88\\\\\n",
        "186 & zou & 0.0006 & 0.0084 & 81.02\\\\\n",
        "187 & odienne & 0.0006 & 0.0077 & 11.96\\\\\n",
        "188 & koffi-amonkro & 0.0006 & 0.0036 & 27.38\\\\\n",
        "189 & ouaninou & 0.0005 & 0.0077 & 18.20\\\\\n",
        "190 & grabo & 0.0005 & 0.0074 & 15.96\\\\\n",
        "191 & tabagne & 0.0005 & 0.0040 & 25.44\\\\\n",
        "192 & marandallah & 0.0005 & 0.0046 & 16.88\\\\\n",
        "193 & bonguera & 0.0005 & 0.0037 & 27.38\\\\\n",
        "194 & timbe & 0.0005 & 0.0029 & 20.25\\\\\n",
        "195 & satama-sokoura & 0.0005 & 0.0010 & 12.35\\\\\n",
        "196 & kassere & 0.0005 & 0.0131 & 23.43\\\\\n",
        "197 & kanakono & 0.0004 & 0.0039 & 36.55\\\\\n",
        "198 & kani & 0.0004 & 0.0060 & 15.67\\\\\n",
        "199 & tengrela & 0.0004 & 0.0071 & 36.55\\\\\n",
        "200 & pehe & 0.0004 & 0.0015 & 21.99\\\\\n",
        "201 & bassawa & 0.0004 & 0.0051 & 12.35\\\\\n",
        "202 & ettrokro & 0.0004 & 0.0018 & 34.82\\\\\n",
        "203 & becedi-brignan & 0.0004 & 0.0024 & 65.98\\\\\n",
        "204 & satama-sokoro & 0.0004 & 0.0009 & 12.35\\\\\n",
        "205 & sorobango & 0.0004 & 0.0012 & 25.44\\\\\n",
        "206 & sandegue & 0.0004 & 0.0037 & 25.44\\\\\n",
        "207 & koro & 0.0004 & 0.0077 & 18.20\\\\\n",
        "208 & dianra & 0.0004 & 0.0050 & 16.88\\\\\n",
        "209 & kouassi-datekro & 0.0004 & 0.0016 & 45.52\\\\\n",
        "210 & assikoi & 0.0003 & 0.0017 & 65.98\\\\\n",
        "211 & morondo & 0.0003 & 0.0077 & 15.67\\\\\n",
        "212 & dabakala & 0.0003 & 0.0111 & 12.35\\\\\n",
        "213 & massala & 0.0003 & 0.0037 & 15.67\\\\\n",
        "214 & bonieredougou & 0.0003 & 0.0063 & 12.35\\\\\n",
        "215 & bouna & 0.0003 & 0.0046 & 9.11\\\\\n",
        "216 & sifie & 0.0003 & 0.0041 & 15.67\\\\\n",
        "217 & sirasso & 0.0003 & 0.0022 & 45.14\\\\\n",
        "218 & tieme & 0.0002 & 0.0059 & 11.96\\\\\n",
        "219 & transua & 0.0002 & 0.0027 & 45.52\\\\\n",
        "220 & bakoubli & 0.0002 & 0.0006 & 21.99\\\\\n",
        "221 & kaniasso & 0.0002 & 0.0043 & 11.96\\\\\n",
        "222 & djibrosso & 0.0002 & 0.0093 & 15.67\\\\\n",
        "223 & tiobly & 0.0002 & 0.0002 & 21.99\\\\\n",
        "224 & madinani & 0.0002 & 0.0039 & 11.96\\\\\n",
        "225 & samatiguila & 0.0002 & 0.0064 & 11.96\\\\\n",
        "226 & borotou & 0.0002 & 0.0029 & 18.20\\\\\n",
        "227 & nassian & 0.0001 & 0.0020 & 9.11\\\\\n",
        "228 & koonan & 0.0001 & 0.0015 & 18.20\\\\\n",
        "229 & kong & 0.0001 & 0.0121 & 14.18\\\\\n",
        "230 & bako & 0.0001 & 0.0027 & 11.96\\\\\n",
        "231 & goulia & 0.0001 & 0.0057 & 11.96\\\\\n",
        "232 & booko & 0.0001 & 0.0076 & 18.20\\\\\n",
        "233 & doropo & 0.0001 & 0.0020 & 9.11\\\\\n",
        "234 & minignan & 0.0001 & 0.0038 & 11.96\\\\\n",
        "235 & tienko & 0.0000 & 0.0035 & 11.96\\\\\n",
        "236 & dioulatiedougou & 0.0000 & 0.0010 & 11.96\\\\\n",
        "237 & karakoro & 0.0000 & 0.0000 & 45.14\\\\\n"
       ]
      }
     ],
     "prompt_number": 108
    },
    {
     "cell_type": "code",
     "collapsed": false,
     "input": [],
     "language": "python",
     "metadata": {},
     "outputs": []
    }
   ],
   "metadata": {}
  }
 ]
}