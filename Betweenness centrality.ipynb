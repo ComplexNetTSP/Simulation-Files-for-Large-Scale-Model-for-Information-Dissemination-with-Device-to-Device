{
 "metadata": {
  "name": "",
  "signature": "sha256:897888245040669c5fe7bbdf70be313369f2e2f1967f3578e96435abc0b0919c"
 },
 "nbformat": 3,
 "nbformat_minor": 0,
 "worksheets": [
  {
   "cells": [
    {
     "cell_type": "code",
     "collapsed": false,
     "input": [
      "import igraph as ig\n",
      "import numpy as np\n",
      "import pickle as p\n",
      "from numpy import matrix\n",
      "from numpy.linalg import inv"
     ],
     "language": "python",
     "metadata": {},
     "outputs": [],
     "prompt_number": 1
    },
    {
     "cell_type": "code",
     "collapsed": false,
     "input": [
      "%pylab inline"
     ],
     "language": "python",
     "metadata": {},
     "outputs": [
      {
       "output_type": "stream",
       "stream": "stdout",
       "text": [
        "Populating the interactive namespace from numpy and matplotlib\n"
       ]
      }
     ],
     "prompt_number": 2
    },
    {
     "cell_type": "code",
     "collapsed": false,
     "input": [
      "with open('PopulationCensus/subPrefectureNumberingCensusData.p') as pickleFile:\n",
      "    ConnectionNumber = p.load(pickleFile)\n",
      "with open('PopulationCensus/densitySubPrefectureCensusData.p') as pickleFile:\n",
      "    density = p.load(pickleFile)\n",
      "subPrefecture_id = {}\n",
      "for name, sub_id in ConnectionNumber.iteritems():\n",
      "    subPrefecture_id[sub_id] = name"
     ],
     "language": "python",
     "metadata": {},
     "outputs": [],
     "prompt_number": 15
    },
    {
     "cell_type": "code",
     "collapsed": false,
     "input": [
      "filename = 'Transitions/transitionprob.p'\n",
      "with open(filename, \"rb\") as pickleFile:\n",
      "    Tlist = p.load(pickleFile)\n",
      "Tarray = np.array(Tlist, dtype=np.float)\n",
      "O = np.ones((255, 255)) - np.identity(255)\n",
      "Tarray = Tarray * O\n",
      "nb_transition = Tarray.sum()\n",
      "print 'nb_transition :', nb_transition\n",
      "N=255\n",
      "nb_edges = (N-1)*(N-2)/2\n",
      "print 'nb_edges :',nb_edges"
     ],
     "language": "python",
     "metadata": {},
     "outputs": [
      {
       "output_type": "stream",
       "stream": "stdout",
       "text": [
        "nb_transition : 16911297.0\n",
        "nb_edges : 32131\n"
       ]
      }
     ],
     "prompt_number": 16
    },
    {
     "cell_type": "code",
     "collapsed": false,
     "input": [
      "G = ig.Graph.Weighted_Adjacency(Tarray.tolist(), mode=ig.ADJ_DIRECTED, attr=\"weight\")\n",
      "ig.summary(G)"
     ],
     "language": "python",
     "metadata": {},
     "outputs": [
      {
       "output_type": "stream",
       "stream": "stdout",
       "text": [
        "IGRAPH D-W- 255 21083 -- \n",
        "+ attr: weight (e)\n"
       ]
      }
     ],
     "prompt_number": 17
    },
    {
     "cell_type": "code",
     "collapsed": false,
     "input": [
      "Gp = ig.Graph.simplify(G, combine_edges=sum)\n",
      "ig.summary(Gp)"
     ],
     "language": "python",
     "metadata": {},
     "outputs": [
      {
       "output_type": "stream",
       "stream": "stdout",
       "text": [
        "IGRAPH D-W- 255 21083 -- \n",
        "+ attr: weight (e)\n"
       ]
      }
     ],
     "prompt_number": 18
    },
    {
     "cell_type": "code",
     "collapsed": false,
     "input": [
      "bw = Gp.betweenness(directed=True)\n",
      "Gp.vs['bw'] = bw"
     ],
     "language": "python",
     "metadata": {},
     "outputs": [],
     "prompt_number": 29
    },
    {
     "cell_type": "code",
     "collapsed": false,
     "input": [
      "bw = Gp.betweenness"
     ],
     "language": "python",
     "metadata": {},
     "outputs": [],
     "prompt_number": 30
    },
    {
     "cell_type": "code",
     "collapsed": false,
     "input": [
      "ig.summary(Gp)"
     ],
     "language": "python",
     "metadata": {},
     "outputs": [
      {
       "output_type": "stream",
       "stream": "stdout",
       "text": [
        "IGRAPH D-W- 255 21083 -- \n",
        "+ attr: bw (v), weight (e)\n"
       ]
      }
     ],
     "prompt_number": 31
    },
    {
     "cell_type": "code",
     "collapsed": false,
     "input": [
      "value_dict = {}\n",
      "for v in Gp.vs:\n",
      "    s = Gp.strength(v.index, mode='in', weights='weight')\n",
      "    sout = Gp.strength(v.index, mode='out', weights='weight')\n",
      "    bw = Gp.vs[v.index]['bw']\n",
      "    value_dict[s] = {'name' : subPrefecture_id[v.index+1], 'bw': bw, 'sout': sout}   "
     ],
     "language": "python",
     "metadata": {},
     "outputs": [],
     "prompt_number": 32
    },
    {
     "cell_type": "code",
     "collapsed": false,
     "input": [
      "index = 1\n",
      "for key in sorted(value_dict.iterkeys(),reverse=True):\n",
      "    name = value_dict[key]['name']\n",
      "    print \"%d & %s & %.4f & %.9f & %.2f\\\\\\\\\" % (index, name, float(key)/nb_transition, value_dict[key]['bw']/nb_edges, density[name])\n",
      "    index += 1"
     ],
     "language": "python",
     "metadata": {},
     "outputs": [
      {
       "output_type": "stream",
       "stream": "stdout",
       "text": [
        "1 & abidjan & 0.1161 & 0.069256921 & 423.95\\\\\n",
        "2 & bingerville & 0.0371 & 0.010260404 & 423.95\\\\\n",
        "3 & soubre & 0.0323 & 0.017103843 & 54.39\\\\\n",
        "4 & meagui & 0.0249 & 0.010316916 & 54.39\\\\\n",
        "5 & anyama & 0.0245 & 0.030273783 & 423.95\\\\\n",
        "6 & yamoussoukro & 0.0240 & 0.043985509 & 67.19\\\\\n",
        "7 & songon & 0.0216 & 0.022672720 & 423.95\\\\\n",
        "8 & grand-bassam & 0.0180 & 0.011894960 & 52.56\\\\\n",
        "9 & bonoua & 0.0156 & 0.010142240 & 52.56\\\\\n",
        "10 & tiassale & 0.0156 & 0.030023932 & 57.24\\\\\n",
        "11 & bouake & 0.0154 & 0.039164841 & 140.19\\\\\n",
        "12 & gagnoa & 0.0154 & 0.030719308 & 89.11\\\\\n",
        "13 & aboisso & 0.0143 & 0.006393881 & 52.56\\\\\n",
        "14 & guiberoua & 0.0143 & 0.008855227 & 89.11\\\\\n",
        "15 & issia & 0.0141 & 0.015866878 & 78.97\\\\\n",
        "16 & toumodi & 0.0136 & 0.026221091 & 42.34\\\\\n",
        "17 & san-pedro & 0.0133 & 0.023236960 & 35.45\\\\\n",
        "18 & guiglo & 0.0124 & 0.007598180 & 21.99\\\\\n",
        "19 & divo & 0.0117 & 0.020573503 & 71.53\\\\\n",
        "20 & bouafle & 0.0116 & 0.014494659 & 59.90\\\\\n",
        "21 & daloa & 0.0116 & 0.027734240 & 96.46\\\\\n",
        "22 & sassandra & 0.0110 & 0.007025840 & 30.15\\\\\n",
        "23 & oume & 0.0110 & 0.006424326 & 84.92\\\\\n",
        "24 & dabou & 0.0109 & 0.009403503 & 423.95\\\\\n",
        "25 & tai & 0.0099 & 0.001020278 & 21.99\\\\\n",
        "26 & maffere & 0.0083 & 0.003527651 & 52.56\\\\\n",
        "27 & hire & 0.0082 & 0.003755049 & 71.53\\\\\n",
        "28 & abengourou & 0.0081 & 0.010639190 & 59.90\\\\\n",
        "29 & sikensi & 0.0080 & 0.019712071 & 423.95\\\\\n",
        "30 & tiebissou & 0.0077 & 0.013626616 & 67.19\\\\\n",
        "31 & attiegouakro & 0.0077 & 0.007412797 & 67.19\\\\\n",
        "32 & sinfra & 0.0075 & 0.011030067 & 103.55\\\\\n",
        "33 & grand-zattry & 0.0071 & 0.005936745 & 54.39\\\\\n",
        "34 & adzope & 0.0069 & 0.012267269 & 65.98\\\\\n",
        "35 & zoukougbeu & 0.0069 & 0.009565607 & 96.46\\\\\n",
        "36 & arrah & 0.0067 & 0.006976528 & 58.85\\\\\n",
        "37 & jacqueville & 0.0066 & 0.001189428 & 423.95\\\\\n",
        "38 & diegonefla & 0.0065 & 0.005673419 & 84.92\\\\\n",
        "39 & okrouyo & 0.0064 & 0.003048204 & 54.39\\\\\n",
        "40 & bongouanou & 0.0063 & 0.006061298 & 58.85\\\\\n",
        "41 & agboville & 0.0062 & 0.012572695 & 76.96\\\\\n",
        "42 & korhogo & 0.0061 & 0.019765912 & 45.14\\\\\n",
        "43 & grand-lahou & 0.0059 & 0.003389788 & 33.60\\\\\n",
        "44 & duekoue & 0.0058 & 0.012892020 & 50.34\\\\\n",
        "45 & sago & 0.0057 & 0.000640153 & 30.15\\\\\n",
        "46 & akoupe & 0.0057 & 0.008748928 & 65.98\\\\\n",
        "47 & agnibilekrou & 0.0057 & 0.007280778 & 72.18\\\\\n",
        "48 & bayota & 0.0056 & 0.004450377 & 89.11\\\\\n",
        "49 & ebilassokro & 0.0055 & 0.000675687 & 59.90\\\\\n",
        "50 & lakota & 0.0055 & 0.010966643 & 61.76\\\\\n",
        "51 & man & 0.0055 & 0.013810310 & 83.61\\\\\n",
        "52 & fresco & 0.0053 & 0.004928753 & 71.53\\\\\n",
        "53 & vavoua & 0.0052 & 0.010799458 & 40.00\\\\\n",
        "54 & sakassou & 0.0052 & 0.002961756 & 46.01\\\\\n",
        "55 & gueyo & 0.0052 & 0.000972024 & 30.15\\\\\n",
        "56 & adiake & 0.0051 & 0.001382858 & 52.56\\\\\n",
        "57 & iboguhe & 0.0049 & 0.003781409 & 78.97\\\\\n",
        "58 & alepe & 0.0047 & 0.002336927 & 423.95\\\\\n",
        "59 & djebonoua & 0.0047 & 0.008026073 & 140.19\\\\\n",
        "60 & buyo & 0.0047 & 0.004214595 & 54.39\\\\\n",
        "61 & saioua & 0.0045 & 0.004348380 & 78.97\\\\\n",
        "62 & gboguhe & 0.0044 & 0.001786717 & 96.46\\\\\n",
        "63 & bonon & 0.0043 & 0.007138118 & 59.90\\\\\n",
        "64 & tiapoum & 0.0042 & 0.003135911 & 52.56\\\\\n",
        "65 & bondoukou & 0.0042 & 0.005662228 & 25.44\\\\\n",
        "66 & agou & 0.0042 & 0.004907396 & 65.98\\\\\n",
        "67 & etueboue & 0.0041 & 0.000028487 & 52.56\\\\\n",
        "68 & katiola & 0.0041 & 0.010206665 & 20.25\\\\\n",
        "69 & bediala & 0.0041 & 0.005279373 & 96.46\\\\\n",
        "70 & bettie & 0.0041 & 0.001592871 & 59.90\\\\\n",
        "71 & yakasse-attobrou & 0.0038 & 0.001896676 & 65.98\\\\\n",
        "72 & daoukro & 0.0038 & 0.008834490 & 34.82\\\\\n",
        "73 & zuenoula & 0.0038 & 0.003085109 & 58.80\\\\\n",
        "74 & kononfla & 0.0037 & 0.004159581 & 103.55\\\\\n",
        "75 & beoumi & 0.0037 & 0.002748823 & 46.29\\\\\n",
        "76 & djekanou & 0.0035 & 0.000951428 & 42.34\\\\\n",
        "77 & azaguie & 0.0034 & 0.005238903 & 76.96\\\\\n",
        "78 & dania & 0.0034 & 0.001606796 & 40.00\\\\\n",
        "79 & kouetinfla & 0.0033 & 0.001193098 & 103.55\\\\\n",
        "80 & ouragahio & 0.0033 & 0.001497826 & 89.11\\\\\n",
        "81 & guezon & 0.0032 & 0.005853507 & 50.34\\\\\n",
        "82 & yakasse-feyasse & 0.0032 & 0.002973664 & 59.90\\\\\n",
        "83 & bazre & 0.0031 & 0.001999540 & 103.55\\\\\n",
        "84 & kokumbo & 0.0031 & 0.001936476 & 42.34\\\\\n",
        "85 & tie-n'diekro & 0.0030 & 0.002864832 & 67.19\\\\\n",
        "86 & diabo & 0.0030 & 0.003524451 & 140.19\\\\\n",
        "87 & dimbokro & 0.0030 & 0.013185138 & 41.95\\\\\n",
        "88 & dikodougou2 & 0.0030 & 0.003143053 & 45.14\\\\\n",
        "89 & grand-bereby & 0.0028 & 0.002320519 & 35.45\\\\\n",
        "90 & seguela & 0.0027 & 0.006875891 & 15.67\\\\\n",
        "91 & seitifla & 0.0027 & 0.001628022 & 40.00\\\\\n",
        "92 & fronan & 0.0027 & 0.005519229 & 20.25\\\\\n",
        "93 & brobo & 0.0026 & 0.003793222 & 140.19\\\\\n",
        "94 & aniassue & 0.0026 & 0.003374246 & 59.90\\\\\n",
        "95 & guitry & 0.0025 & 0.001527028 & 71.53\\\\\n",
        "96 & languibonou & 0.0025 & 0.001277051 & 140.19\\\\\n",
        "97 & angoda & 0.0025 & 0.001113795 & 42.34\\\\\n",
        "98 & niable & 0.0025 & 0.002446080 & 59.90\\\\\n",
        "99 & bianoua & 0.0024 & 0.001204915 & 52.56\\\\\n",
        "100 & ferkessedougou & 0.0024 & 0.007121184 & 14.18\\\\\n",
        "101 & sapli & 0.0024 & 0.000772607 & 25.44\\\\\n",
        "102 & zaranou & 0.0024 & 0.000204957 & 59.90\\\\\n",
        "103 & gohitafla & 0.0024 & 0.001683652 & 58.80\\\\\n",
        "104 & gadouan & 0.0023 & 0.001507945 & 96.46\\\\\n",
        "105 & m'batto & 0.0022 & 0.002295001 & 58.85\\\\\n",
        "106 & assinie-mafia & 0.0022 & 0.000472252 & 52.56\\\\\n",
        "107 & yocoboue & 0.0022 & 0.000892270 & 71.53\\\\\n",
        "108 & zikisso & 0.0021 & 0.000368006 & 61.76\\\\\n",
        "109 & bodokro & 0.0021 & 0.002737645 & 46.29\\\\\n",
        "110 & sinematiali & 0.0020 & 0.001836266 & 45.14\\\\\n",
        "111 & ayame & 0.0020 & 0.000770164 & 52.56\\\\\n",
        "112 & oress-krobou & 0.0019 & 0.003337564 & 76.96\\\\\n",
        "113 & taabo & 0.0019 & 0.001034592 & 57.24\\\\\n",
        "114 & bocanda & 0.0019 & 0.002857016 & 41.95\\\\\n",
        "115 & danane & 0.0019 & 0.004970843 & 70.20\\\\\n",
        "116 & zouan-hounien & 0.0018 & 0.001669302 & 70.20\\\\\n",
        "117 & dame & 0.0018 & 0.000801262 & 72.18\\\\\n",
        "118 & niakaramandougou & 0.0018 & 0.007103896 & 20.25\\\\\n",
        "119 & tanguelan & 0.0017 & 0.000532520 & 72.18\\\\\n",
        "120 & biankouma & 0.0017 & 0.003472218 & 29.21\\\\\n",
        "121 & mankono & 0.0016 & 0.003476981 & 16.88\\\\\n",
        "122 & duffrebo & 0.0016 & 0.001347626 & 72.18\\\\\n",
        "123 & kouto & 0.0016 & 0.001952905 & 23.43\\\\\n",
        "124 & tieningboue & 0.0016 & 0.002850272 & 16.88\\\\\n",
        "125 & kounahiri & 0.0016 & 0.001089735 & 16.88\\\\\n",
        "126 & botro & 0.0016 & 0.001678420 & 140.19\\\\\n",
        "127 & diawala & 0.0016 & 0.000401956 & 14.18\\\\\n",
        "128 & tanda & 0.0015 & 0.002810228 & 45.52\\\\\n",
        "129 & m'bengue & 0.0015 & 0.001047761 & 45.14\\\\\n",
        "130 & koun-fao & 0.0015 & 0.001809661 & 45.52\\\\\n",
        "131 & ouelle & 0.0014 & 0.003763690 & 34.82\\\\\n",
        "132 & tabou & 0.0014 & 0.001363637 & 15.96\\\\\n",
        "133 & ouangolodougou & 0.0014 & 0.010107976 & 14.18\\\\\n",
        "134 & ando-kekrenou & 0.0014 & 0.000145470 & 46.29\\\\\n",
        "135 & didievi & 0.0014 & 0.000807629 & 67.19\\\\\n",
        "136 & semien & 0.0013 & 0.000635633 & 83.61\\\\\n",
        "137 & dualla & 0.0013 & 0.001024575 & 15.67\\\\\n",
        "138 & rubino & 0.0013 & 0.000357392 & 76.96\\\\\n",
        "139 & tankesse & 0.0013 & 0.005096422 & 45.52\\\\\n",
        "140 & boundiali & 0.0013 & 0.004794396 & 23.43\\\\\n",
        "141 & gbon & 0.0013 & 0.000932173 & 23.43\\\\\n",
        "142 & gueyebly & 0.0013 & 0.001982727 & 50.34\\\\\n",
        "143 & kouassi kouassikro & 0.0013 & 0.000805574 & 41.95\\\\\n",
        "144 & zaibo & 0.0013 & 0.000134696 & 96.46\\\\\n",
        "145 & gbapleu & 0.0012 & 0.000535925 & 50.34\\\\\n",
        "146 & napieoledougou & 0.0012 & 0.000458956 & 45.14\\\\\n",
        "147 & niambezaria & 0.0012 & 0.000897500 & 61.76\\\\\n",
        "148 & amelekia & 0.0012 & 0.000424799 & 59.90\\\\\n",
        "149 & dikodougou & 0.0012 & 0.001408625 & 45.14\\\\\n",
        "150 & kpouebo & 0.0011 & 0.000485639 & 42.34\\\\\n",
        "151 & logouale & 0.0011 & 0.002243038 & 83.61\\\\\n",
        "152 & m'bahiakro & 0.0011 & 0.004078089 & 27.38\\\\\n",
        "153 & bangolo & 0.0011 & 0.002083587 & 81.02\\\\\n",
        "154 & sarhala & 0.0011 & 0.000605743 & 16.88\\\\\n",
        "155 & tafire & 0.0011 & 0.003288120 & 20.25\\\\\n",
        "156 & affery & 0.0010 & 0.000674607 & 65.98\\\\\n",
        "157 & blolequin & 0.0010 & 0.003609109 & 21.99\\\\\n",
        "158 & assuefry & 0.0010 & 0.001279891 & 45.52\\\\\n",
        "159 & mahapleu & 0.0010 & 0.000937256 & 70.20\\\\\n",
        "160 & worofla & 0.0010 & 0.000810596 & 15.67\\\\\n",
        "161 & boguedia & 0.0010 & 0.000552429 & 78.97\\\\\n",
        "162 & touba & 0.0009 & 0.006481787 & 18.20\\\\\n",
        "163 & nielle & 0.0009 & 0.004103818 & 14.18\\\\\n",
        "164 & goumere & 0.0009 & 0.000796957 & 25.44\\\\\n",
        "165 & cechi & 0.0009 & 0.000417916 & 76.96\\\\\n",
        "166 & sangouine & 0.0009 & 0.000991945 & 83.61\\\\\n",
        "167 & grand-morie & 0.0009 & 0.000263718 & 76.96\\\\\n",
        "168 & prikro & 0.0008 & 0.003425369 & 27.38\\\\\n",
        "169 & dieouzon & 0.0008 & 0.000355682 & 81.02\\\\\n",
        "170 & bagohouo & 0.0008 & 0.000238503 & 50.34\\\\\n",
        "171 & guiembe & 0.0008 & 0.000473957 & 45.14\\\\\n",
        "172 & niofoin & 0.0008 & 0.000750496 & 45.14\\\\\n",
        "173 & tortiya & 0.0008 & 0.000633340 & 20.25\\\\\n",
        "174 & toulepleu & 0.0008 & 0.000402986 & 21.99\\\\\n",
        "175 & gnagbodougnoa & 0.0008 & 0.000203097 & 89.11\\\\\n",
        "176 & oghlwapo & 0.0008 & 0.000166343 & 423.95\\\\\n",
        "177 & taoudi & 0.0007 & 0.000247371 & 25.44\\\\\n",
        "178 & kolia & 0.0007 & 0.001352164 & 23.43\\\\\n",
        "179 & akoboissue & 0.0007 & 0.000201948 & 72.18\\\\\n",
        "180 & anoumaba & 0.0007 & 0.000374923 & 58.85\\\\\n",
        "181 & tiemelekro & 0.0007 & 0.000202073 & 58.85\\\\\n",
        "182 & facobly & 0.0006 & 0.000277792 & 83.61\\\\\n",
        "183 & bin-houye & 0.0006 & 0.000160680 & 70.20\\\\\n",
        "184 & nidrou & 0.0006 & 0.000173107 & 83.61\\\\\n",
        "185 & kongasso & 0.0006 & 0.000528101 & 16.88\\\\\n",
        "186 & zou & 0.0006 & 0.000640433 & 81.02\\\\\n",
        "187 & odienne & 0.0006 & 0.004020328 & 11.96\\\\\n",
        "188 & koffi-amonkro & 0.0006 & 0.000471249 & 27.38\\\\\n",
        "189 & ouaninou & 0.0005 & 0.001248498 & 18.20\\\\\n",
        "190 & grabo & 0.0005 & 0.000575499 & 15.96\\\\\n",
        "191 & tabagne & 0.0005 & 0.000634297 & 25.44\\\\\n",
        "192 & marandallah & 0.0005 & 0.000564918 & 16.88\\\\\n",
        "193 & bonguera & 0.0005 & 0.000365463 & 27.38\\\\\n",
        "194 & timbe & 0.0005 & 0.000367615 & 20.25\\\\\n",
        "195 & satama-sokoura & 0.0005 & 0.000223227 & 12.35\\\\\n",
        "196 & kassere & 0.0005 & 0.000435933 & 23.43\\\\\n",
        "197 & kanakono & 0.0004 & 0.000295806 & 36.55\\\\\n",
        "198 & kani & 0.0004 & 0.002384134 & 15.67\\\\\n",
        "199 & tengrela & 0.0004 & 0.001840716 & 36.55\\\\\n",
        "200 & pehe & 0.0004 & 0.000176615 & 21.99\\\\\n",
        "201 & bassawa & 0.0004 & 0.000791845 & 12.35\\\\\n",
        "202 & ettrokro & 0.0004 & 0.000183348 & 34.82\\\\\n",
        "203 & becedi-brignan & 0.0004 & 0.000167769 & 65.98\\\\\n",
        "204 & satama-sokoro & 0.0004 & 0.000309674 & 12.35\\\\\n",
        "205 & sorobango & 0.0004 & 0.000136726 & 25.44\\\\\n",
        "206 & sandegue & 0.0004 & 0.001179845 & 25.44\\\\\n",
        "207 & koro & 0.0004 & 0.003395762 & 18.20\\\\\n",
        "208 & dianra & 0.0004 & 0.002137448 & 16.88\\\\\n",
        "209 & kouassi-datekro & 0.0004 & 0.000513857 & 45.52\\\\\n",
        "210 & assikoi & 0.0003 & 0.000064933 & 65.98\\\\\n",
        "211 & morondo & 0.0003 & 0.001676769 & 15.67\\\\\n",
        "212 & dabakala & 0.0003 & 0.002803375 & 12.35\\\\\n",
        "213 & massala & 0.0003 & 0.000292664 & 15.67\\\\\n",
        "214 & bonieredougou & 0.0003 & 0.000901522 & 12.35\\\\\n",
        "215 & bouna & 0.0003 & 0.001436976 & 9.11\\\\\n",
        "216 & sifie & 0.0003 & 0.000432003 & 15.67\\\\\n",
        "217 & sirasso & 0.0003 & 0.000484262 & 45.14\\\\\n",
        "218 & tieme & 0.0002 & 0.001940565 & 11.96\\\\\n",
        "219 & transua & 0.0002 & 0.000237061 & 45.52\\\\\n",
        "220 & bakoubli & 0.0002 & 0.000114589 & 21.99\\\\\n",
        "221 & kaniasso & 0.0002 & 0.000217973 & 11.96\\\\\n",
        "222 & djibrosso & 0.0002 & 0.000384200 & 15.67\\\\\n",
        "223 & tiobly & 0.0002 & 0.000061844 & 21.99\\\\\n",
        "224 & madinani & 0.0002 & 0.001926021 & 11.96\\\\\n",
        "225 & samatiguila & 0.0002 & 0.000437074 & 11.96\\\\\n",
        "226 & borotou & 0.0002 & 0.000577769 & 18.20\\\\\n",
        "227 & nassian & 0.0001 & 0.000410371 & 9.11\\\\\n",
        "228 & koonan & 0.0001 & 0.000087699 & 18.20\\\\\n",
        "229 & kong & 0.0001 & 0.000911322 & 14.18\\\\\n",
        "230 & bako & 0.0001 & 0.000785043 & 11.96\\\\\n",
        "231 & goulia & 0.0001 & 0.000776897 & 11.96\\\\\n",
        "232 & booko & 0.0001 & 0.000310568 & 18.20\\\\\n",
        "233 & doropo & 0.0001 & 0.000464034 & 9.11\\\\\n",
        "234 & minignan & 0.0001 & 0.000277748 & 11.96\\\\\n",
        "235 & tienko & 0.0000 & 0.000351060 & 11.96\\\\\n",
        "236 & dioulatiedougou & 0.0000 & 0.000203699 & 11.96\\\\\n",
        "237 & karakoro & 0.0000 & 0.000000000 & 45.14\\\\\n"
       ]
      }
     ],
     "prompt_number": 33
    },
    {
     "cell_type": "code",
     "collapsed": false,
     "input": [],
     "language": "python",
     "metadata": {},
     "outputs": [],
     "prompt_number": 33
    },
    {
     "cell_type": "code",
     "collapsed": false,
     "input": [],
     "language": "python",
     "metadata": {},
     "outputs": []
    }
   ],
   "metadata": {}
  }
 ]
}